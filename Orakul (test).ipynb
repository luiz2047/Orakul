{
 "cells": [
  {
   "cell_type": "markdown",
   "metadata": {},
   "source": [
    "# Orakul ver.0.0.0.1"
   ]
  },
  {
   "cell_type": "code",
   "execution_count": 220,
   "metadata": {},
   "outputs": [],
   "source": [
    "import sklearn\n",
    "import pandas as pd\n",
    "import urllib\n",
    "import urllib.request\n",
    "from operator import itemgetter,attrgetter\n",
    "from sklearn import tree\n",
    "from sklearn.svm import SVC\n",
    "from sklearn.multiclass import OneVsRestClassifier\n",
    "from sklearn.preprocessing import LabelBinarizer\n",
    "from pandas import read_csv\n",
    "from sklearn.metrics import classification_report,confusion_matrix\n",
    "from sklearn.cross_validation import train_test_split\n",
    "from sklearn.ensemble import RandomForestClassifier\n",
    "from sklearn.metrics import accuracy_score, roc_auc_score\n",
    "from sklearn.neural_network import MLPClassifier\n",
    "#Подгружаем ненужные библиотеки"
   ]
  },
  {
   "cell_type": "code",
   "execution_count": 229,
   "metadata": {
    "collapsed": true
   },
   "outputs": [],
   "source": [
    "match_id = []\n",
    "team1_id = []\n",
    "team1_name = []\n",
    "team2_name = []\n",
    "team2_id =[]\n",
    "series_type = []\n",
    "team1_win = []\n",
    "r1 = []\n",
    "r2 = []\n",
    "w1 = []\n",
    "w2 = []\n",
    "l1 = []\n",
    "l2 = []\n",
    "team_id = []\n",
    "rating_team = []\n",
    "name_team = []\n",
    "win = []\n",
    "lose = []\n",
    "#Задаем массивы для хранения инфы"
   ]
  },
  {
   "cell_type": "code",
   "execution_count": 222,
   "metadata": {
    "collapsed": true
   },
   "outputs": [],
   "source": [
    "def rating(): #Парсим таблицу команд и сортируем ее\n",
    "    t = urllib.request.urlopen(\"https://api.opendota.com/api/teams\")\n",
    "    proteams = t.read().decode().split(\",\")\n",
    "    for i in range(0, len(proteams)):\n",
    "        if proteams[i].startswith('[{\"team_id\"'):\n",
    "            team_id.append(proteams[i][12:])\n",
    "        if proteams[i].startswith('{\"team_id\"'):\n",
    "            team_id.append(proteams[i][11:])\n",
    "        if proteams[i].startswith('\"rating\"'):\n",
    "            if proteams[i][9:]==\"null\":\n",
    "                rating_team.append(0);\n",
    "            else:\n",
    "                rating_team.append(proteams[i][9:]);\n",
    "            \n",
    "        if proteams[i].startswith('\"name\"'):\n",
    "            name_team.append(proteams[i][7:])\n",
    "        if proteams[i].startswith('\"wins\"'):\n",
    "            if proteams[i][7:]==\"null\":\n",
    "                win.append(0);\n",
    "            else:\n",
    "                 win.append(proteams[i][7:])\n",
    "        if proteams[i].startswith('\"losses\"'):\n",
    "            if proteams[i][9:]==\"null\":\n",
    "                lose.append(0);\n",
    "            else:\n",
    "                lose.append(proteams[i][9:])"
   ]
  },
  {
   "cell_type": "code",
   "execution_count": 223,
   "metadata": {
    "collapsed": true
   },
   "outputs": [],
   "source": [
    "def parse():  #Парсим таблицу матчей и сортируем ее\n",
    "    l = 0\n",
    "    x = 3824843352\n",
    "    while l <= 30:\n",
    "        l += 1\n",
    "        f = urllib.request.urlopen(\"https://api.opendota.com/api/proMatches?less_than_match_id=\"+str(x))\n",
    "        promatches = f.read().decode().split(\",\")\n",
    "        for i in range(0, len(promatches)):\n",
    "            if promatches[i].startswith('\"dire_team_id\"'):\n",
    "                if promatches[i][15:]==\"null\":\n",
    "                    team2_id.append(0);\n",
    "                else:\n",
    "                    team2_id.append(promatches[i][15:])\n",
    "            if promatches[i].startswith('\"radiant_team_id\"'):\n",
    "                if promatches[i][18:]==\"null\":\n",
    "                    team1_id.append(0);\n",
    "                else:\n",
    "                    team1_id.append(promatches[i][18:])\n",
    "            if promatches[i].startswith('\"radiant_name\"'):\n",
    "                if promatches[i][15:]==\"null\":\n",
    "                    team1_name.append(0);\n",
    "                else:\n",
    "                    team1_name.append(promatches[i][15:])\n",
    "            if promatches[i].startswith('\"dire_name\"'):\n",
    "                if promatches[i][12:]==\"null\":\n",
    "                    team2_name.append(0);\n",
    "                else:\n",
    "                    team2_name.append(promatches[i][12:])\n",
    "            if promatches[i].startswith('\"series_type\"'):\n",
    "                series_type.append(int(promatches[i][14:]))\n",
    "            if promatches[i].startswith('\"radiant_win\"'):\n",
    "                if promatches[i][14:18]==\"true\":\n",
    "                    team1_win.append(1)\n",
    "                else:\n",
    "                    team1_win.append(0)\n",
    "            if promatches[i].startswith('[{\"match_id\"') or promatches[i].startswith('{\"match_id\"'):\n",
    "                match_id.append(promatches[i][12:])\n",
    "        x = int(match_id[-1])\n",
    "    print(len(team1_id))"
   ]
  },
  {
   "cell_type": "code",
   "execution_count": 224,
   "metadata": {
    "collapsed": true
   },
   "outputs": [],
   "source": [
    "def find(a): #Поиск названия команды по ее ID\n",
    "    b1 =int(team_id.index(a))\n",
    "    t1 = name_team[b1]\n",
    "    return t1"
   ]
  },
  {
   "cell_type": "code",
   "execution_count": 225,
   "metadata": {
    "collapsed": true
   },
   "outputs": [],
   "source": [
    "def predict(): \n",
    "    base = pd.DataFrame({ #Создаем БД с матчами и их исходами\n",
    "'Team1radiant':team1_name,\n",
    "'Team2dire':team2_name,\n",
    "'Radiant':team1_id,\n",
    "'Dire':team2_id,\n",
    "'Bo': series_type,\n",
    "'Win':team1_win,\n",
    "                     })\n",
    "    X = base.loc[:, ['Radiant', 'Dire','Bo']] #Задаем в X аргументы матча\n",
    "    y = base['Win'] #Задаем в Y исходы матчей \n",
    "    x = 0\n",
    "    classifier = tree.DecisionTreeRegressor(max_depth=2000) #Создаем дерево регрессии с глубиной 2000 веток\n",
    "    classifier.fit(X, y)\n",
    "    a = input(\"Team1 \")\n",
    "    b = input(\"Team2 \")\n",
    "    t1 = find(a)\n",
    "    t2 = find(b)\n",
    "    print('ser-type',t1,t2)\n",
    "    while x<=2:\n",
    "        prediction = classifier.predict([[a,b,x]]) #Исход для 1-й команды\n",
    "        prediction2 = classifier.predict([[b,a,x]]) #Исход для 2-й команды\n",
    "        print(x,'     ',prediction,'    ',prediction2) #Показываем результаты в зависимости от типа матча\n",
    "        x +=1"
   ]
  },
  {
   "cell_type": "code",
   "execution_count": 226,
   "metadata": {
    "collapsed": true
   },
   "outputs": [],
   "source": [
    "def start(): #Запуск парсеров для БД и предикт матча(ПЕРЕД ЗАПУСКОМ ОБНУЛИТЬ МАССИВЫ)P.S. Если API OpenDota не работает обнуляем массивы и запускаем заново\n",
    "    rating()\n",
    "    parse()\n",
    "    predict() #После одного запуска start() для предсказывания матча используем predict()"
   ]
  },
  {
   "cell_type": "code",
   "execution_count": 234,
   "metadata": {},
   "outputs": [
    {
     "name": "stdout",
     "output_type": "stream",
     "text": [
      "Team1 5027210\n",
      "Team2 726228\n",
      "ser-type \"VGJ Thunder\" \"Vici Gaming\"\n",
      "0       [ 1.]      [ 0.]\n",
      "1       [ 0.16666667]      [ 0.4]\n",
      "2       [ 0.]      [ 0.]\n"
     ]
    }
   ],
   "source": [
    "predict()"
   ]
  },
  {
   "cell_type": "code",
   "execution_count": 230,
   "metadata": {},
   "outputs": [
    {
     "name": "stdout",
     "output_type": "stream",
     "text": [
      "3100\n",
      "Team1 3214108\n",
      "Team2 2108395\n",
      "ser-type \"Team NP\" \"TNC Predator\"\n",
      "0       [ 0.33333333]      [ 0.]\n",
      "1       [ 0.33333333]      [ 1.]\n",
      "2       [ 1.]      [ 0.]\n"
     ]
    }
   ],
   "source": [
    "start()\n"
   ]
  },
  {
   "cell_type": "code",
   "execution_count": null,
   "metadata": {
    "collapsed": true
   },
   "outputs": [],
   "source": [
    "# Разные типы нейросетей: RandomForestClassifier(n_estimators =2000, criterion='entropy'); MLPClassifier(hidden_layer_sizes=(50,50,50,50,50),max_iter=5000);DecisionTreeClassifier(random_state=0);DecisionTreeRegressor(random_state=0)"
   ]
  }
 ],
 "metadata": {
  "kernelspec": {
   "display_name": "Python 3",
   "language": "python",
   "name": "python3"
  },
  "language_info": {
   "codemirror_mode": {
    "name": "ipython",
    "version": 3
   },
   "file_extension": ".py",
   "mimetype": "text/x-python",
   "name": "python",
   "nbconvert_exporter": "python",
   "pygments_lexer": "ipython3",
   "version": "3.6.1"
  }
 },
 "nbformat": 4,
 "nbformat_minor": 2
}
