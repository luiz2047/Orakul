{
 "cells": [
  {
   "cell_type": "markdown",
   "metadata": {},
   "source": [
    "# Orakul ver.0.0.0.1"
   ]
  },
  {
   "cell_type": "code",
   "execution_count": 1,
   "metadata": {},
   "outputs": [
    {
     "name": "stderr",
     "output_type": "stream",
     "text": [
      "D:\\Program Files (x86)\\Python\\lib\\site-packages\\sklearn\\cross_validation.py:41: DeprecationWarning: This module was deprecated in version 0.18 in favor of the model_selection module into which all the refactored classes and functions are moved. Also note that the interface of the new CV iterators are different from that of this module. This module will be removed in 0.20.\n",
      "  \"This module will be removed in 0.20.\", DeprecationWarning)\n"
     ]
    }
   ],
   "source": [
    "import sklearn\n",
    "import pandas as pd\n",
    "import urllib\n",
    "import urllib.request\n",
    "from operator import itemgetter,attrgetter\n",
    "from sklearn import tree\n",
    "from sklearn.svm import SVC\n",
    "from sklearn.multiclass import OneVsRestClassifier\n",
    "from sklearn.preprocessing import LabelBinarizer\n",
    "from pandas import read_csv\n",
    "from sklearn.feature_extraction.text import HashingVectorizer\n",
    "from sklearn.cross_validation import train_test_split\n",
    "from sklearn.ensemble import RandomForestClassifier\n",
    "from sklearn.metrics import accuracy_score, roc_auc_score\n",
    "from sklearn.decomposition import PCA"
   ]
  },
  {
   "cell_type": "code",
   "execution_count": 11,
   "metadata": {
    "collapsed": true
   },
   "outputs": [],
   "source": [
    "match_id = []\n",
    "team1_id = []\n",
    "team1_name = []\n",
    "team2_name = []\n",
    "team2_id =[]\n",
    "series_type = []\n",
    "team1_win = []\n",
    "r1 = []\n",
    "r2 = []\n",
    "w1 = []\n",
    "w2 = []\n",
    "l1 = []\n",
    "l2 = []\n",
    "team_id = []\n",
    "rating_team = []\n",
    "name_team = []\n",
    "win = []\n",
    "lose = []"
   ]
  },
  {
   "cell_type": "code",
   "execution_count": 3,
   "metadata": {
    "collapsed": true
   },
   "outputs": [],
   "source": [
    "def rating():\n",
    "    t = urllib.request.urlopen(\"https://api.opendota.com/api/teams\")\n",
    "    proteams = t.read().decode().split(\",\")\n",
    "    for i in range(0, len(proteams)):\n",
    "        if proteams[i].startswith('[{\"team_id\"'):\n",
    "            team_id.append(proteams[i][12:])\n",
    "        if proteams[i].startswith('{\"team_id\"'):\n",
    "            team_id.append(proteams[i][11:])\n",
    "        if proteams[i].startswith('\"rating\"'):\n",
    "            if proteams[i][9:]==\"null\":\n",
    "                rating_team.append(0);\n",
    "            else:\n",
    "                rating_team.append(proteams[i][9:]);\n",
    "            \n",
    "        if proteams[i].startswith('\"name\"'):\n",
    "            name_team.append(proteams[i][7:])\n",
    "        if proteams[i].startswith('\"wins\"'):\n",
    "            if proteams[i][7:]==\"null\":\n",
    "                win.append(0);\n",
    "            else:\n",
    "                 win.append(proteams[i][7:])\n",
    "        if proteams[i].startswith('\"losses\"'):\n",
    "            if proteams[i][9:]==\"null\":\n",
    "                lose.append(0);\n",
    "            else:\n",
    "                lose.append(proteams[i][9:])"
   ]
  },
  {
   "cell_type": "code",
   "execution_count": 4,
   "metadata": {
    "collapsed": true
   },
   "outputs": [],
   "source": [
    "def parse():\n",
    "    x = 3504812513\n",
    "    while x <= 3824589115:\n",
    "        f = urllib.request.urlopen(\"https://api.opendota.com/api/proMatches?less_than_match_id=\"+str(x))\n",
    "        promatches = f.read().decode().split(\",\")\n",
    "        for i in range(0, len(promatches)):\n",
    "            if promatches[i].startswith('\"dire_team_id\"'):\n",
    "                if promatches[i][15:]==\"null\":\n",
    "                    team2_id.append(0);\n",
    "                else:\n",
    "                    team2_id.append(promatches[i][15:])\n",
    "            if promatches[i].startswith('\"radiant_team_id\"'):\n",
    "                if promatches[i][18:]==\"null\":\n",
    "                    team1_id.append(0);\n",
    "                else:\n",
    "                    team1_id.append(promatches[i][18:])\n",
    "            if promatches[i].startswith('\"radiant_name\"'):\n",
    "                if promatches[i][15:]==\"null\":\n",
    "                    team1_name.append(0);\n",
    "                else:\n",
    "                    team1_name.append(promatches[i][15:])\n",
    "            if promatches[i].startswith('\"dire_name\"'):\n",
    "                if promatches[i][12:]==\"null\":\n",
    "                    team2_name.append(0);\n",
    "                else:\n",
    "                    team2_name.append(promatches[i][12:])\n",
    "            if promatches[i].startswith('\"series_type\"'):\n",
    "                series_type.append(int(promatches[i][14:]))\n",
    "            if promatches[i].startswith('\"radiant_win\"'):\n",
    "                if promatches[i][14:18]==\"true\":\n",
    "                    team1_win.append(1)\n",
    "                else:\n",
    "                    team1_win.append(0)\n",
    "        x+=7634131\n",
    "    print(len(team1_id))"
   ]
  },
  {
   "cell_type": "code",
   "execution_count": 5,
   "metadata": {
    "collapsed": true
   },
   "outputs": [],
   "source": [
    "def find():\n",
    "    for i in range(0,len(team1_id)):\n",
    "        if team1_id[i] in team_id:   \n",
    "            b1 =int(team_id.index(str(team1_id[int(i)])))\n",
    "            r1.append(rating_team[b1])\n",
    "            w1.append(win[b1])\n",
    "            l1.append(lose[b1])\n",
    "        else:\n",
    "            r1.append(0)\n",
    "            w1.append(0)\n",
    "            l1.append(0)\n",
    "    for i in range(0,len(team2_id)):\n",
    "        if team2_id[i] in team_id:\n",
    "            b2 = int(team_id.index(str(team2_id[int(i)])))\n",
    "            r2.append(rating_team[b2])\n",
    "            w2.append(win[b2])\n",
    "            l2.append(lose[b2])\n",
    "        else:\n",
    "            r2.append(0)\n",
    "            w2.append(0)\n",
    "            l2.append(0)"
   ]
  },
  {
   "cell_type": "code",
   "execution_count": 7,
   "metadata": {
    "collapsed": true
   },
   "outputs": [],
   "source": [
    "def predict():\n",
    "    base = pd.DataFrame({\n",
    "'Team1radiant':team1_name,\n",
    "'Team2dire':team2_name,\n",
    "'Radiant':team1_id,\n",
    "'Dire':team2_id,\n",
    "'Bo': series_type,\n",
    "'Win':team1_win,\n",
    "                     })\n",
    "    X = base.loc[:, ['Radiant', 'Dire','Bo']]\n",
    "    y = base['Win']\n",
    "    classifier = tree.DecisionTreeRegressor(max_depth=1000)\n",
    "    classifier.fit(X, y)\n",
    "    a = input(\"Team1 \")\n",
    "    b = input(\"Team2 \")\n",
    "    c = input(\"Series \")\n",
    "    prediction = classifier.predict([[a,b,c]])\n",
    "    print(prediction)"
   ]
  },
  {
   "cell_type": "code",
   "execution_count": 8,
   "metadata": {
    "collapsed": true
   },
   "outputs": [],
   "source": [
    "def start():\n",
    "    parse()\n",
    "    predict()"
   ]
  },
  {
   "cell_type": "code",
   "execution_count": 33,
   "metadata": {},
   "outputs": [
    {
     "name": "stdout",
     "output_type": "stream",
     "text": [
      "Team1 5407995\n",
      "Team2 5326648\n",
      "Series 2\n",
      "[ 1.]\n"
     ]
    }
   ],
   "source": [
    "predict()\n"
   ]
  },
  {
   "cell_type": "code",
   "execution_count": 16,
   "metadata": {},
   "outputs": [
    {
     "name": "stdout",
     "output_type": "stream",
     "text": [
      "4200\n",
      "Team1 5107795\n",
      "Team2 3210649\n",
      "Series 1\n",
      "[ 1.]\n"
     ]
    }
   ],
   "source": [
    "start()\n"
   ]
  },
  {
   "cell_type": "code",
   "execution_count": null,
   "metadata": {
    "collapsed": true
   },
   "outputs": [],
   "source": [
    "5326648  5407995"
   ]
  }
 ],
 "metadata": {
  "kernelspec": {
   "display_name": "Python 3",
   "language": "python",
   "name": "python3"
  },
  "language_info": {
   "codemirror_mode": {
    "name": "ipython",
    "version": 3
   },
   "file_extension": ".py",
   "mimetype": "text/x-python",
   "name": "python",
   "nbconvert_exporter": "python",
   "pygments_lexer": "ipython3",
   "version": "3.6.1"
  }
 },
 "nbformat": 4,
 "nbformat_minor": 2
}
